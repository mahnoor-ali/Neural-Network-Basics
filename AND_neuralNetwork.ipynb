{
  "nbformat": 4,
  "nbformat_minor": 0,
  "metadata": {
    "colab": {
      "provenance": []
    },
    "kernelspec": {
      "name": "python3",
      "display_name": "Python 3"
    },
    "language_info": {
      "name": "python"
    }
  },
  "cells": [
    {
      "cell_type": "code",
      "execution_count": 7,
      "metadata": {
        "id": "GVowaT0cE4Aj"
      },
      "outputs": [],
      "source": [
        "import numpy as np\n",
        "\n",
        "class Perceptron:\n",
        "    def __init__ (self, learning_rate=0.01, n_iters=1000):\n",
        "        self.lr = learning_rate\n",
        "        self.n_iters = n_iters\n",
        "        self.activation_func = self.activation\n",
        "        self.weights = None\n",
        "        self.bias = None\n",
        "\n",
        "    def fit(self, X, y):\n",
        "        n_samples, n_features = X.shape\n",
        "        self.weights = np.zeros(n_features)\n",
        "        self.bias = 0\n",
        "\n",
        "        for _ in range(self.n_iters):\n",
        "            for idx, xi in enumerate(X):\n",
        "                linear_output = np.dot(xi, self.weights) + self.bias\n",
        "                y_predicted = self.activation_func(linear_output)\n",
        "\n",
        "                w_delta = (self.lr*(y[idx] - y_predicted))\n",
        "                self.weights += w_delta * xi\n",
        "                self.bias += w_delta\n",
        "\n",
        "    def predict(self, X):\n",
        "        linear_output = np.dot(X, self.weights) + self.bias\n",
        "        y_predicted = self.activation_func(linear_output)\n",
        "        return y_predicted\n",
        "        \n",
        "    def activation(self, x):\n",
        "      return np.where(x>=0, 1, 0)  #for an array x\n",
        "\n",
        "\n"
      ]
    },
    {
      "cell_type": "code",
      "source": [
        "\n",
        "# sample input and output arrays for AND gate\n",
        "X = np.array([[1, 1], [1, 0], [0, 1], [0, 0]])\n",
        "y = np.array([1, 0, 0, 0])\n",
        "\n",
        "# create an instance of the class\n",
        "perceptron = Perceptron()\n",
        "\n",
        "# fit the model to the sample data\n",
        "perceptron.fit(X, y)\n",
        "\n",
        "# test the model with sample input\n",
        "print(perceptron.predict([1, 1])) # should return 1\n",
        "print(perceptron.predict([1, 0])) # should return 0\n",
        "print(perceptron.predict([0.99, 0.99])) # should return 0\n",
        "print(perceptron.predict([0, 0])) # should return 0\n"
      ],
      "metadata": {
        "colab": {
          "base_uri": "https://localhost:8080/"
        },
        "id": "tKRw7qFNEPR2",
        "outputId": "27b178a2-baf6-40b1-b520-54b3b6df789c"
      },
      "execution_count": 9,
      "outputs": [
        {
          "output_type": "stream",
          "name": "stdout",
          "text": [
            "1\n",
            "0\n",
            "0\n",
            "0\n"
          ]
        }
      ]
    }
  ]
}